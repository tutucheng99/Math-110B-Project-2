{
  "nbformat": 4,
  "nbformat_minor": 0,
  "metadata": {
    "colab": {
      "name": "“Ordering of Randomized Optimization.ipynb”的副本",
      "provenance": [],
      "collapsed_sections": [],
      "include_colab_link": true
    },
    "kernelspec": {
      "name": "python3",
      "display_name": "Python 3"
    }
  },
  "cells": [
    {
      "cell_type": "markdown",
      "metadata": {
        "id": "view-in-github",
        "colab_type": "text"
      },
      "source": [
        "<a href=\"https://colab.research.google.com/github/tutucheng99/Math-110B-Project-2/blob/main/%E2%80%9COrdering_of_Randomized_Optimization_ipynb%E2%80%9D.ipynb\" target=\"_parent\"><img src=\"https://colab.research.google.com/assets/colab-badge.svg\" alt=\"Open In Colab\"/></a>"
      ]
    },
    {
      "cell_type": "markdown",
      "metadata": {
        "id": "gsjnqL-WLvTO"
      },
      "source": [
        "Group Members:\n",
        "1. Chen Xu \n",
        "2. Solar Shao\n",
        "3. Zhihao Zhang\n",
        "4. Zhiyu Cheng"
      ]
    },
    {
      "cell_type": "markdown",
      "metadata": {
        "id": "SUfiwv22qUma"
      },
      "source": [
        "# Random or not so random?\n",
        "\n",
        "In the project, you will study the optimization algorithms related to the randomization. For a group of random algorithms, the randomness could be improved through certain strategy. The reference for this project comes from https://arxiv.org/pdf/1202.4184.pdf . \n",
        "\n",
        "The mathematical problem discussed in the above paper is quite simple, however it provides some insights for data science, especially for linear problems. The conjecture in the paper is still an open problem in general."
      ]
    },
    {
      "cell_type": "markdown",
      "metadata": {
        "id": "_LtDgJBs0C9d"
      },
      "source": [
        "## First things first\n",
        "We review the gradient descent method learned in last quarter, for minimization of $f(x)$, the Gradient Descent (GD) iteration is \n",
        "$$x_{k+1} = x_k - \\alpha_k \\nabla f(x_k)$$\n",
        "with $\\alpha_k$ the chosen step length, usually a backtracking type loop is associated for the choice of $\\alpha_k$. \n",
        "\n"
      ]
    },
    {
      "cell_type": "markdown",
      "metadata": {
        "id": "9f2jq6a-0qhc"
      },
      "source": [
        "## Incremental GD\n",
        "There are some variants of GD, like coordinate gradient descent or the stochastic gradient descent. Here we focus on the IGD: incremental GD, it is similar to the coordinate GD, which is dealing with something local and then deal with something else later. \n",
        "\n",
        "Suppose the problem is:\n",
        "$$\\min_x f(x) := \\sum_{i=1}^m f_i(x)$$\n",
        "the objective function is the summation of a few other objective functions. This is quite normal in real life applications. Especially the statistics and imaging science. \n",
        "\n",
        "The IGD is dealing with one of the $f_i$ with GD and then deal with others in similar manner. Suppose we have fixed an ordering $i_0, i_1, i_2, \\dots, i_k,\\dots$, this ordering is infinite or finite, the numbers are just sampled from $\\{ 1,2,\\dots, m\\}$, basically telling you an order of $f_i$ to deal with. During each iteration, we update $x_k$ by\n",
        "\n",
        "$$x_{k+1} = x_{k} - \\gamma_k \\nabla f_{i_k}(x_{k})$$\n",
        "where $\\gamma_k$ is the step length.  \n",
        "\n",
        "When the ordering is sampled uniformly from $\\{ 1,2,\\dots, m\\}$, then this method becomes **Stochastic GD**. But the ordering could be other kind or distribution, even deterministic, we will mainly focus on select a better strategy for the ordering."
      ]
    },
    {
      "cell_type": "markdown",
      "metadata": {
        "id": "-b9lGznZDwSD"
      },
      "source": [
        "## Implementation Task 1\n",
        "\n",
        "This task comes from the Section 2.1 of the reference paper.\n",
        "\n",
        "We implement the 1D example of least square problem for the IGD. Then problem is given by \n",
        "\n",
        "$$\\min_x \\frac{1}{2}\\sum_{i=1}^n (x- y_i)^2$$\n",
        "where $y_i$ is a sequence of scalars sampled with certain given mean value $\\mu$ and variance $\\sigma^2$. Following the above method, the iteration will be\n",
        "$$x_{k+1} =x_k -\\gamma_k (x_{k} - y_{i_k})$$\n",
        "where $y_{i_k}$ comes from the selected ordering.  \n",
        "\n",
        "In the first task, you need to implement the following functions. "
      ]
    },
    {
      "cell_type": "code",
      "metadata": {
        "id": "RvnjT762FadE"
      },
      "source": [
        "# generate a vector of random numbers which obeys the given distribution.\n",
        "#\n",
        "# n: length of the vector\n",
        "# mu: mean value\n",
        "# sigma: standard deviation.\n",
        "# dist: choices for the distribution, you need to implement at least normal \n",
        "#       distribution and uniform distribution.\n",
        "#\n",
        "# For normal distribution, you can use ``numpy.random.normal`` to generate.\n",
        "# For uniform distribution, the interval to sample will be [mu - sigma/sqrt(3), mu + sigma/sqrt(3)].\n",
        "\n",
        "import numpy as np\n",
        "import math\n",
        "\n",
        "def generate_random_numbers(n, mu, sigma, dist=\"normal\"):\n",
        "    lower = mu - sigma/math.sqrt(3)\n",
        "    upper = mu + sigma/math.sqrt(3)\n",
        "    if dist == \"normal\":\n",
        "        return np.random.normal(mu, sigma, n)\n",
        "    elif dist == \"uniform\":\n",
        "        return np.random.uniform(lower, upper, n)\n",
        "        pass\n",
        "    else:\n",
        "        raise Exception(\"The distribution {unknown_dist} is not implemented\".format(unknown_dist=dist))\n",
        "        \n",
        "        \n",
        "# test your code:\n",
        "y_test = generate_random_numbers(5, 0, 0.1, \"uniform\")"
      ],
      "execution_count": null,
      "outputs": []
    },
    {
      "cell_type": "code",
      "metadata": {
        "colab": {
          "base_uri": "https://localhost:8080/"
        },
        "id": "ZZK9iYDeQxhc",
        "outputId": "3371a31d-736e-4a3d-cbcd-af88330e44e7"
      },
      "source": [
        "y_test"
      ],
      "execution_count": null,
      "outputs": [
        {
          "output_type": "execute_result",
          "data": {
            "text/plain": [
              "array([ 0.03514039, -0.03351963, -0.04921109,  0.02440428,  0.05234257])"
            ]
          },
          "metadata": {},
          "execution_count": 2
        }
      ]
    },
    {
      "cell_type": "markdown",
      "metadata": {
        "id": "MdytKKS9Iyd6"
      },
      "source": [
        "### Settings of the minimization problems\n",
        "Now you will setup the problem with a sampling of $y$ vector with the following two different settings:\n",
        "```\n",
        "n, mu, sigma, dist = 105, 0.5, 1.0, \"normal\"\n",
        "```\n",
        "and \n",
        "```\n",
        "n, mu, sigma, dist = 105, 0.5, 1.0, \"uniform\"\n",
        "```\n",
        "Your initial guess will be $x_0 = 0$ for both cases. The step length is taking the diminishing factor $\\gamma_k = \\frac{1}{k+1}$."
      ]
    },
    {
      "cell_type": "code",
      "metadata": {
        "id": "dZQTddxHPIBB"
      },
      "source": [
        "y1 = generate_random_numbers(105, 0.5, 1.0, \"normal\")\n",
        "y2 = generate_random_numbers(105, 0.5, 1.0, \"uniform\")"
      ],
      "execution_count": null,
      "outputs": []
    },
    {
      "cell_type": "markdown",
      "metadata": {
        "id": "y2r5QCRCKfql"
      },
      "source": [
        "### Two orderings to experiment with\n",
        "\n",
        "1. Random ordering with replacement\n",
        "In this case, we do not choose the fixed ordering, we sample a number in $\\{1,2,\\dots, n \\}$ each time and follow the iteration.\n",
        "\n",
        "2. Random ordering without replacement\n",
        "In this case, we do not choose the fixed ordering, we sample an ordering without replacement from $\\{1,2,\\dots, n\\}$ and then follow the iteration."
      ]
    },
    {
      "cell_type": "code",
      "metadata": {
        "id": "G-BDbTsMPT7I"
      },
      "source": [
        "# IGD, the ordering is permitted to have replacement. \n",
        "#\n",
        "#\n",
        "# Define a function that input the number x (and a vector y) and return the value of objective function.\n",
        "def IGD_wr_task1(y):\n",
        "    n = len(y)\n",
        "    ordering = np.random.choice(n, n, replace=True)\n",
        "    # implement the algorithm's iteration of IGD. Your result should return the the final xk\n",
        "    # at the last iteration and also the history of objective function at each xk.\n",
        "    x = 0 \n",
        "    object_func = []\n",
        "    for k in range(n):\n",
        "      sum_ = 0\n",
        "      gamma = 1 / (k + 2)\n",
        "      x = x - gamma * (x - y[ordering[k]])\n",
        "      for i in range(n):        \n",
        "        sum_ += (x - y[i]) ** 2\n",
        "      object_func.append((1/2) * sum_)\n",
        "    return x, object_func\n",
        "\n",
        "\n",
        "# IGD, the ordering is not permitted to have replacement.\n",
        "#\n",
        "#\n",
        "def IGD_wo_task1(y):\n",
        "    n = len(y)\n",
        "    ordering = np.random.choice(n, n, replace=False)\n",
        "    # implement the algorithm's iteration of IGD. Your result should return the the final xk\n",
        "    # at the last iteration and also the history of objective function at each xk.\n",
        "    x = 0 \n",
        "    object_func = []\n",
        "    y_sum = 0\n",
        "    for k in range(n):\n",
        "      sum_ = 0\n",
        "      gamma = 1 / (k + 2)\n",
        "      x = x - gamma * (x - y[ordering[k]])\n",
        "      for i in range(n):        \n",
        "        sum_ += (x - y[i]) ** 2\n",
        "      object_func.append((1/2) * sum_)\n",
        "      y_sum += y[k]\n",
        "    return x, object_func"
      ],
      "execution_count": null,
      "outputs": []
    },
    {
      "cell_type": "markdown",
      "metadata": {
        "id": "06UQih7YWvN8"
      },
      "source": [
        "### Your results to present\n",
        "Show your results by plotting two figures. For each cases of the above two settings, you need to plot the histories (``IGD_wr_task1`` and ``IGD_wo_task1``) of objective functions in the same figure. \n",
        "\n",
        "Conclude which strategy is better from the results. \n",
        "\n",
        "Briefly prove the ``IGD_wo_task1`` must converge to the true solution (mean value of ``y``). You can calculate first a few values of $x_k$ by hand to see why."
      ]
    },
    {
      "cell_type": "code",
      "metadata": {
        "colab": {
          "base_uri": "https://localhost:8080/",
          "height": 265
        },
        "id": "KjFvhULuUEnM",
        "outputId": "2a4fed84-ce2e-4ca7-f1cc-8ac480acda35"
      },
      "source": [
        "result1_normal = IGD_wr_task1(y1)\n",
        "result2_normal = IGD_wo_task1(y1)\n",
        "import statistics as st\n",
        "import matplotlib.pyplot as plt\n",
        "plt.plot(result1_normal[1], label='IGD_wr_task1')\n",
        "plt.plot(result2_normal[1], label='IGD_wo_task1')\n",
        "plt.legend()\n",
        "plt.show()"
      ],
      "execution_count": null,
      "outputs": [
        {
          "output_type": "display_data",
          "data": {
            "image/png": "[encoded data removed]",
            "text/plain": [
              "<Figure size 432x288 with 1 Axes>"
            ]
          },
          "metadata": {
            "needs_background": "light"
          }
        }
      ]
    },
    {
      "cell_type": "code",
      "metadata": {
        "colab": {
          "base_uri": "https://localhost:8080/",
          "height": 265
        },
        "id": "1cfr_mLTTFAs",
        "outputId": "b113a608-9a30-4ced-81b9-5ea6d0745b98"
      },
      "source": [
        "result1_uniform = IGD_wr_task1(y2)\n",
        "result2_uniform = IGD_wo_task1(y2)\n",
        "import statistics as st\n",
        "import matplotlib.pyplot as plt\n",
        "plt.plot(result1_uniform[1], label='IGD_wr_task1')\n",
        "plt.plot(result2_uniform[1], label='IGD_wo_task1')\n",
        "plt.legend()\n",
        "plt.show()"
      ],
      "execution_count": null,
      "outputs": [
        {
          "output_type": "display_data",
          "data": {
            "image/png": "[encoded data removed]",
            "text/plain": [
              "<Figure size 432x288 with 1 Axes>"
            ]
          },
          "metadata": {
            "needs_background": "light"
          }
        }
      ]
    },
    {
      "cell_type": "markdown",
      "metadata": {
        "id": "rH4_eq5BK9Nv"
      },
      "source": [
        "## Conclusion:\n",
        "Both of the two methods works good. The proof below shows that methods 2 is accurate, whereas the graph does not show this edge."
      ]
    },
    {
      "cell_type": "markdown",
      "metadata": {
        "id": "JQVTGSDUxpJa"
      },
      "source": [
        "## Proof.\n",
        "By computating several $x_k$ by hand, we know that since each $y_k$ appears by once, the x we get at last is equal to the mean of the array y.\n",
        "Since $f(x)=\\frac{1}{2} (nx^2+2(y_1+\\cdots+y_n)x+(y_1^2+\\cdots+y_n^2))$, the minimizer of $f(x)$ is equal to $x^*=-\\frac{2(y_1+\\cdots+y_n)}{2n}$, which is also the mean of the array $y$. Hence, IGD_wo_task1 converges to the true value."
      ]
    },
    {
      "cell_type": "markdown",
      "metadata": {
        "id": "QdgVbXHHXe8-"
      },
      "source": [
        "## Implementation Task 2\n",
        "\n",
        "This task comes from the Section 2.1 of the reference paper as well. \n",
        "\n",
        "Instead of the problem in Task 1, we consider another problem, which is quite simple.\n",
        "\n",
        "$$\\min_x \\frac{1}{2}\\sum_{i=1}^n \\beta_i (x - y)^2$$\n",
        "here $\\beta_i$ are positive weights, $y$ is a scalar. Clearly the minimum is at $x = y$. We try to use the IGD to solve the problem. \n",
        "\n",
        "$$x_{k+1} = x_k - \\gamma_k \\beta_{i_k} (x_k - y)$$\n",
        "\n",
        "where $\\gamma_k\\equiv \\gamma = 0.95 \\min \\beta_i^{-1}$. For simplicity, the $\\beta_i$ are sampled uniformly between $[1,2]$. Your task2 is the same as the task1,  use two kinds of ordering to solve the problem and compare the results through figures."
      ]
    },
    {
      "cell_type": "code",
      "metadata": {
        "id": "MGc2gHijps0F"
      },
      "source": [
        "# IGD, the ordering is permitted to have replacement. \n",
        "#\n",
        "#\n",
        "def IGD_wr_task2(y):\n",
        "    n = 105;\n",
        "    ordering = np.random.choice(n, n, replace=True)\n",
        "    beta_list = generate_random_numbers(n, 1.5, 0.5*math.sqrt(3), \"uniform\")\n",
        "    gamma = 0.95 * (min(beta_list)) ** (-1)\n",
        "    # implement the algorithm's iteration of IGD. Your result should return the the final xk\n",
        "    # at the last iteration and also the history of objective function at each xk.\n",
        "    x = 0 \n",
        "    object_func_value = []\n",
        "    for k in range(n):\n",
        "      sum_ = 0\n",
        "      x = x - gamma * beta_list[k] * (x - y)\n",
        "      for i in range(n):        \n",
        "        sum_ += beta_list[k] * (x - y) ** 2\n",
        "      object_func_value.append((1/2) * sum_)\n",
        "    return x, object_func_value\n",
        "\n",
        "\n",
        "# IGD, the ordering is not permitted to have replacement.\n",
        "#\n",
        "#\n",
        "def IGD_wo_task2(y):\n",
        "    n = 105;\n",
        "    ordering = np.random.choice(n, n, replace=False)\n",
        "    beta_list = generate_random_numbers(n, 1.5, 0.5*math.sqrt(3), \"uniform\")\n",
        "    gamma = 0.95 * (min(beta_list)) ** (-1)\n",
        "    # implement the algorithm's iteration of IGD. Your result should return the the final xk\n",
        "    # at the last iteration and also the history of objective function at each xk.\n",
        "    x = 0 \n",
        "    object_func_value = []\n",
        "    for k in range(n):\n",
        "      sum_ = 0\n",
        "      x = x - gamma * beta_list[k] * (x - y)\n",
        "      for i in range(n):        \n",
        "        sum_ += beta_list[k] * (x - y) ** 2\n",
        "      object_func_value.append((1/2) * sum_)\n",
        "    return x, object_func_value"
      ],
      "execution_count": null,
      "outputs": []
    },
    {
      "cell_type": "markdown",
      "metadata": {
        "id": "UET_B4Usqy7e"
      },
      "source": [
        "### Your results to present\n",
        "Show your results by plotting two figures. For each cases of the above two settings, you need to plot the histories (``IGD_wr_task2`` and ``IGD_wo_task2``) of objective functions in the same figure. \n",
        "\n",
        "Conclude which strategy is better from the results. "
      ]
    },
    {
      "cell_type": "code",
      "metadata": {
        "id": "QZ9Lx2kpTX08"
      },
      "source": [
        "y3 = generate_random_numbers(1, 0.5, 1.0, \"normal\")\n",
        "y4 = generate_random_numbers(1, 0.5, 1.0, \"uniform\")"
      ],
      "execution_count": null,
      "outputs": []
    },
    {
      "cell_type": "code",
      "metadata": {
        "colab": {
          "base_uri": "https://localhost:8080/",
          "height": 265
        },
        "id": "hCN4rL_tUUHe",
        "outputId": "f16e2108-31c5-4a15-bd3b-df18bed33f48"
      },
      "source": [
        "result3_normal = IGD_wr_task2(y3)\n",
        "result4_normal = IGD_wo_task2(y3)\n",
        "\n",
        "plt.plot(result3_normal[1], label='IGD_wr_task2')\n",
        "plt.plot(result4_normal[1], label='IGD_wo_task2')\n",
        "plt.legend()\n",
        "plt.show()"
      ],
      "execution_count": null,
      "outputs": [
        {
          "output_type": "display_data",
          "data": {
            "image/png": "[encoded data removed]",
            "text/plain": [
              "<Figure size 432x288 with 1 Axes>"
            ]
          },
          "metadata": {
            "needs_background": "light"
          }
        }
      ]
    },
    {
      "cell_type": "code",
      "metadata": {
        "colab": {
          "base_uri": "https://localhost:8080/",
          "height": 265
        },
        "id": "RlLY76UXTh6R",
        "outputId": "3bea22fc-a87c-4f17-a412-cf6ad751f60d"
      },
      "source": [
        "result3_uniform = IGD_wr_task2(y4)\n",
        "result4_uniform = IGD_wo_task2(y4)\n",
        "\n",
        "plt.plot(result3_uniform[1], label='IGD_wr_task2')\n",
        "plt.plot(result4_uniform[1], label='IGD_wo_task2')\n",
        "plt.legend()\n",
        "plt.show()"
      ],
      "execution_count": null,
      "outputs": [
        {
          "output_type": "display_data",
          "data": {
            "image/png": "[encoded data removed]",
            "text/plain": [
              "<Figure size 432x288 with 1 Axes>"
            ]
          },
          "metadata": {
            "needs_background": "light"
          }
        }
      ]
    },
    {
      "cell_type": "markdown",
      "metadata": {
        "id": "w_HLKTrfLb4D"
      },
      "source": [
        "## Conclusion：\n",
        "Both methods work pretty well. Each time x converges to y."
      ]
    },
    {
      "cell_type": "markdown",
      "metadata": {
        "id": "4FZfrQ0wrNvH"
      },
      "source": [
        "## Implementation Task 3\n",
        "\n",
        "Now instead of 1D problem considered in above two tasks, we will consider the general case in higher dimensions, we study the least square problem to find solution of \n",
        "$$Ax = y$$\n",
        "where $A$ is an $m\\times n$ matrix and $x$ is a vector in $\\mathbb{R}^n$. In most cases, $m \\ge n$ which means the measurement is redundant for this linear model.  We denote the $i$th column $A^T$ as $a_i$ (namely the $i$th row of $A$ ), then we are minimizing\n",
        "\n",
        "$$\\min_x \\sum_{i=1}^m (a_i^T x - y_i)^2$$\n",
        "each $a_i\\in\\mathbb{R}^n$. \n",
        "\n",
        "And using IGD to minimize above problem with certain ordering. The step size $\\gamma$ is  taken as a fixed constant, say $10^{-3}$, which is a common value for GD. \n",
        "\n",
        "Each iteration will be \n",
        "\n",
        "$$x_{k+1} = x_k - \\gamma a_{i_k} (a_{i_k}^T x_{k} - y_{i_k})$$\n",
        "\n",
        "Your initial guess is still all zeros vector. \n"
      ]
    },
    {
      "cell_type": "markdown",
      "metadata": {
        "id": "jevXn5siy2lq"
      },
      "source": [
        "### Generation of $y$\n",
        "The $y$ vector is generated by taking the following form\n",
        "$$y_i = a_i^T x^{\\ast} + w_i$$\n",
        "where $w_i$ obeys normal distribution of zero mean and variance of $\\rho^2$, here $\\rho = 10^{-2}$. "
      ]
    },
    {
      "cell_type": "code",
      "metadata": {
        "id": "m4dVvD5czPTP"
      },
      "source": [
        "# generation of exact solution and data y and matrix A.\n",
        "\n",
        "def generate_problem_task3(m, n, rho):\n",
        "    A = np.random.normal(0., 1.0, (m, n))\n",
        "    x = np.random.random(n) # uniform in (0,1)\n",
        "    w = np.random.normal(0., rho, m)\n",
        "    y = A@x + w\n",
        "    return A, x, y"
      ],
      "execution_count": null,
      "outputs": []
    },
    {
      "cell_type": "code",
      "metadata": {
        "id": "xit131efzd09"
      },
      "source": [
        "# We generate the problem with 200x100 matrix. rho as 0.01.\n",
        "#\n",
        "A, xstar, y = generate_problem_task3(200, 100, 0.01)"
      ],
      "execution_count": null,
      "outputs": []
    },
    {
      "cell_type": "code",
      "metadata": {
        "id": "JmrxUfiHCacQ"
      },
      "source": [
        "# IGD, the ordering is permitted to have replacement. \n",
        "#\n",
        "#\n",
        "def IGD_wr_task3(A, xstar, y):\n",
        "    n=200;\n",
        "    gamma=0.001;\n",
        "    ordering = np.random.choice(200, 200, replace=True)\n",
        "    x = np.zeros(100)\n",
        "    # implement the algorithm's iteration of IGD. Your result should return the the final xk\n",
        "    # at the last iteration and also the history of objective function at each xk.\n",
        "    x = np.zeros((100,)) \n",
        "    norm_list = []\n",
        "    object_func_value = []\n",
        "    for k in range(100):\n",
        "        a = A[ordering[k]]\n",
        "        x = x - gamma * a * (a.T @ x - y[ordering[k]])        \n",
        "        norm = np.linalg.norm(x-xstar)\n",
        "        norm_list.append(norm)\n",
        "        sum = np.linalg.norm(A @ x - y)\n",
        "        sum_ = sum ** 2 \n",
        "        object_func_value.append(sum_)\n",
        "    return x, norm_list, object_func_value\n",
        "\n",
        "# IGD, the ordering is not permitted to have replacement.\n",
        "#\n",
        "#\n",
        "def IGD_wo_task3(A, xstar, y):\n",
        "    n=200;\n",
        "    gamma=0.001;\n",
        "    ordering = np.random.choice(200, 200, replace=False)\n",
        "    x = np.zeros(100)\n",
        "    # implement the algorithm's iteration of IGD. Your result should return the the final xk\n",
        "    # at the last iteration and also the history of objective function at each xk.\n",
        "    x = np.zeros((100,)) \n",
        "    norm_list = []\n",
        "    object_func_value = []\n",
        "    for k in range(100):\n",
        "        a = A[ordering[k]]\n",
        "        x = x - gamma * a * (a.T @ x - y[ordering[k]])        \n",
        "        norm = np.linalg.norm(x-xstar)\n",
        "        norm_list.append(norm)\n",
        "        sum = np.linalg.norm(A @ x - y)\n",
        "        sum_ = sum ** 2 \n",
        "        object_func_value.append(sum_)\n",
        "    return x, norm_list, object_func_value"
      ],
      "execution_count": null,
      "outputs": []
    },
    {
      "cell_type": "markdown",
      "metadata": {
        "id": "CJ9-S1GZFiVJ"
      },
      "source": [
        "### Your results to present\n",
        "Show your results by plotting two figures. For each cases of the above two settings, you need to plot the histories (``IGD_wr_task3`` and ``IGD_wo_task3``) of objective functions in the same figure.  \n",
        "\n",
        "Then change your code to plot the histories of $\\|x_k - x^{\\ast }\\|$ and compare the results about the convergences.\n",
        "\n",
        "Conclude which strategy is better from the results. "
      ]
    },
    {
      "cell_type": "code",
      "metadata": {
        "id": "dbXUC0NtDOUV",
        "colab": {
          "base_uri": "https://localhost:8080/",
          "height": 265
        },
        "outputId": "184c6aa8-e9c8-4524-8b2d-fb06836245a8"
      },
      "source": [
        "result5 = IGD_wr_task3(A, xstar, y)\n",
        "result6 = IGD_wo_task3(A, xstar, y)\n",
        "\n",
        "plt.plot(result5[1], label='IGD_wr_task2_norm')\n",
        "plt.plot(result6[1], label='IGD_wo_task2_norm')\n",
        "plt.legend()\n",
        "plt.show()"
      ],
      "execution_count": null,
      "outputs": [
        {
          "output_type": "display_data",
          "data": {
            "image/png": "[encoded data removed]",
            "text/plain": [
              "<Figure size 432x288 with 1 Axes>"
            ]
          },
          "metadata": {
            "needs_background": "light"
          }
        }
      ]
    },
    {
      "cell_type": "code",
      "metadata": {
        "colab": {
          "base_uri": "https://localhost:8080/",
          "height": 265
        },
        "id": "zzvzg1_lEkek",
        "outputId": "d130e40d-ee6a-4c2d-f4f1-d9cc1f725c26"
      },
      "source": [
        "plt.plot(result5[2], label='IGD_wr_task2')\n",
        "plt.plot(result6[2], label='IGD_wo_task2')\n",
        "plt.legend()\n",
        "plt.show()"
      ],
      "execution_count": null,
      "outputs": [
        {
          "output_type": "display_data",
          "data": {
            "image/png": "[encoded data removed]",
            "text/plain": [
              "<Figure size 432x288 with 1 Axes>"
            ]
          },
          "metadata": {
            "needs_background": "light"
          }
        }
      ]
    },
    {
      "cell_type": "markdown",
      "metadata": {
        "id": "_o0Ll_tk3jbP"
      },
      "source": [
        "## Conclusion:\n",
        "Both of these methods works well and they works quite similar."
      ]
    }
  ]
}